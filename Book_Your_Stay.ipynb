{
 "cells": [
  {
   "cell_type": "markdown",
   "metadata": {},
   "source": [
    "BACK-END"
   ]
  },
  {
   "cell_type": "code",
   "execution_count": 15,
   "metadata": {},
   "outputs": [
    {
     "name": "stdout",
     "output_type": "stream",
     "text": [
      "Tables in the database:\n",
      "accommodation\n",
      "booking\n",
      "customercontact\n",
      "customerinformation\n",
      "paymentinformation\n",
      "specialrequests\n"
     ]
    }
   ],
   "source": [
    "import mysql.connector\n",
    "\n",
    "class AccommodationBooking:\n",
    "    def __init__(self):\n",
    "        self.connection = mysql.connector.connect(\n",
    "            host=\"127.0.0.1\",\n",
    "            port=3006,\n",
    "            user=\"root\",\n",
    "            password=\"Silver@2004\",\n",
    "            database=\"travel_booking\",\n",
    "            autocommit=True\n",
    "        )\n",
    "        self.cursor = self.connection.cursor()\n",
    "\n",
    "    def show_tables(self):\n",
    "        show_tables_query = \"SHOW TABLES\"\n",
    "        self.cursor.execute(show_tables_query)\n",
    "        tables = self.cursor.fetchall()\n",
    "        print(\"Tables in the database:\")\n",
    "        for table in tables:\n",
    "            print(table[0])\n",
    "\n",
    "    def enter_customer_details(self):\n",
    "        print(\"Enter your details!\")\n",
    "        customer_id = int(input(\"Enter CustomerID: \"))\n",
    "        full_name = input(\"Enter Full Name: \")\n",
    "        email_address = input(\"Enter Email Address: \")\n",
    "        dob = str(input(\"Enter Date of Birth (YYYY-MM-DD): \"))\n",
    "        insert_data_query = \"INSERT INTO customerinformation (CustomerID, FullName, EmailAddress, DOB) VALUES (%s, %s, %s, %s)\"\n",
    "        data_to_insert = (customer_id, full_name, email_address, dob)\n",
    "        self.cursor.execute(insert_data_query, data_to_insert)\n",
    "        self.connection.commit()\n",
    "        print(\"Your details are added!\")\n",
    "        select_data_query = \"SELECT * FROM customerinformation WHERE customerid=%s\"\n",
    "        self.cursor.execute(select_data_query, (customer_id,))\n",
    "        print(\"Please remember your Customer ID\",customer_id)\n",
    "\n",
    "        # Fetch all rows\n",
    "        rows = self.cursor.fetchall()\n",
    "        for row in rows:\n",
    "            print(row)\n",
    "        self.cursor.fetchall()     \n",
    "\n",
    "    def choose_accommodation(self):\n",
    "        print(\"Choose an accommodation from the list below:\")\n",
    "        select_data_query = \"SELECT * FROM accommodation\"\n",
    "        self.cursor.execute(select_data_query)\n",
    "        accommodations = self.cursor.fetchall()\n",
    "        for accommodation in accommodations:\n",
    "            print(accommodation)\n",
    "\n",
    "    def enter_booking_details(self):\n",
    "        print(\"Enter Your Booking Details\")\n",
    "        booking_id = int(input(\"Enter Booking ID (any 3 digit number): \"))\n",
    "        customer_id=int(input(\"Enter your CustomerID: \"))\n",
    "        accommodation_id = int(input(\"Enter AccommodationID of the chosen accommodation: \"))\n",
    "        check_in_date = input(\"Enter Check-in Date (YYYY-MM-DD): \")\n",
    "        check_out_date = input(\"Enter Check-out Date (YYYY-MM-DD): \")\n",
    "        num_of_guests = int(input(\"Enter Number of Guests: \"))\n",
    "        room_type = input(\"Enter Room Type: \")\n",
    "        insert_data_query = \"INSERT INTO booking VALUES (%s, %s, %s, %s, %s, %s, %s)\"\n",
    "        data_to_insert = (booking_id, customer_id, accommodation_id, check_in_date, check_out_date, num_of_guests, room_type)\n",
    "        self.cursor.execute(insert_data_query, data_to_insert)\n",
    "        self.connection.commit()\n",
    "        print(\"Your booking is created!\")\n",
    "         # Select data\n",
    "        select_data_query = \"SELECT * FROM booking WHERE customerid=%s\"\n",
    "        self.cursor.execute(select_data_query, (customer_id,))\n",
    "        print(\"Please remember your Booking ID\",booking_id)\n",
    "\n",
    "        # Fetch all rows\n",
    "        rows = self.cursor.fetchall()\n",
    "        for row in rows:\n",
    "            print(row)\n",
    "\n",
    "    def special_requests(self):\n",
    "        special = input(\"Do you have any special requests for your stay? (yes/no) \")\n",
    "        if special.lower() == \"yes\":\n",
    "            print(\"Enter your Details\")\n",
    "            booking_id = int(input(\"Enter Your Booking ID: \"))\n",
    "            special_request_id = int(input(\"Enter Special Request ID: \"))\n",
    "            special_request_description = input(\"Enter Description of Special Request: \")\n",
    "            insert_special_requests_query = \"INSERT INTO specialrequests (BookingID, SpecialID, request) VALUES (%s, %s, %s)\"\n",
    "            data_special_requests = (booking_id, special_request_id, special_request_description)\n",
    "            self.cursor.execute(insert_special_requests_query, data_special_requests)\n",
    "            self.connection.commit()\n",
    "            print(\"Special Requests information has been recorded!\")\n",
    "            select_data_query = \"SELECT * FROM specialrequests WHERE bookingid=%s and specialid=%s\"\n",
    "            self.cursor.execute(select_data_query, (booking_id, special_request_id))\n",
    "            # Fetch all rows\n",
    "            rows = self.cursor.fetchall()\n",
    "            for row in rows:\n",
    "                print(row)\n",
    "            self.cursor.fetchall()  \n",
    "        else:\n",
    "            print(\"Okay!\")\n",
    "\n",
    "    def payment_information(self):\n",
    "        booking_id = int(input(\"Enter Your Booking ID: \"))\n",
    "        payment_method = input(\"Enter Payment Method: \")\n",
    "        print(\"To be entered by your booking agent\")\n",
    "        payment_id = int(input(\"Enter Payment ID: \"))\n",
    "        amount = float(input(\"Enter Total Amount: \"))\n",
    "        payment_status = input(\"Enter Payment Status: \")\n",
    "        insert_data_query = \"INSERT INTO paymentinformation VALUES (%s, %s, %s, %s, %s)\"\n",
    "        data_to_insert = (payment_id, booking_id, amount, payment_status, payment_method)\n",
    "        self.cursor.execute(insert_data_query, data_to_insert)\n",
    "        self.connection.commit()\n",
    "        print(\"Your payment details are added!\")\n",
    "        select_data_query = \"SELECT * FROM booking WHERE bookingid=%s\"\n",
    "        self.cursor.execute(select_data_query, (booking_id,))\n",
    "        # Fetch all rows\n",
    "        rows = self.cursor.fetchall()\n",
    "        for row in rows:\n",
    "            print(row)\n",
    "        self.cursor.fetchall()\n",
    "\n",
    "    def fetch_booking_details_by_customer_id(self):\n",
    "        customer_id=int(input(\"enter your CustomerID: \"))\n",
    "        query = \"\"\"\n",
    "        SELECT\n",
    "            c.CustomerID,\n",
    "            c.FullName AS CustomerName,\n",
    "            a.AccommID,\n",
    "            a.accommname AS AccommodationName,\n",
    "            b.BookingID,\n",
    "            b.CheckinDate,\n",
    "            b.CheckoutDate,\n",
    "            b.guestno,\n",
    "            b.RoomType,\n",
    "            p.PaymentID,\n",
    "            p.Amount,\n",
    "            p.Status,\n",
    "            p.PMethod,\n",
    "            sr.SpecialID,\n",
    "            sr.request AS SpecialRequestDescription\n",
    "        FROM CustomerInformation c\n",
    "        JOIN Booking b ON c.CustomerID = b.CustomerID\n",
    "        JOIN Accommodation a ON b.AccommodationID = a.AccommID\n",
    "        LEFT JOIN PaymentInformation p ON b.BookingID = p.BookingID\n",
    "        LEFT JOIN SpecialRequests sr ON b.BookingID = sr.BookingID\n",
    "        WHERE c.CustomerID = %s;\n",
    "        \"\"\"\n",
    "        self.cursor.execute(query, (customer_id,))\n",
    "        rows = self.cursor.fetchall()\n",
    "        for row in rows:\n",
    "            print(row)\n",
    "        self.cursor.fetchall()\n",
    "\n",
    "    def close_connection(self):\n",
    "        self.cursor.close()\n",
    "        self.connection.close()\n",
    "\n",
    "\n",
    "\n",
    "booking_instance = AccommodationBooking()\n",
    "booking_instance.show_tables()\n",
    "\n"
   ]
  },
  {
   "cell_type": "markdown",
   "metadata": {},
   "source": [
    "FRONT-END"
   ]
  },
  {
   "cell_type": "code",
   "execution_count": 16,
   "metadata": {},
   "outputs": [
    {
     "name": "stdout",
     "output_type": "stream",
     "text": [
      "\n",
      "=== Welcome to Book Your Stay ===\n",
      "1. See the required details\n",
      "2. Enter your details(if you are a new customer)\n",
      "3. See accommodations available\n",
      "4. Enter Booking Details\n",
      "5. Special Requests\n",
      "6. Payment Information\n",
      "7. See Your Details\n",
      "8. Exit\n"
     ]
    },
    {
     "name": "stdout",
     "output_type": "stream",
     "text": [
      "Tables in the database:\n",
      "accommodation\n",
      "booking\n",
      "customercontact\n",
      "customerinformation\n",
      "paymentinformation\n",
      "specialrequests\n",
      "1. See the required details\n",
      "2. Enter your details(if you are a new customer)\n",
      "3. See accommodations available\n",
      "4. Enter Booking Details\n",
      "5. Special Requests\n",
      "6. Payment Information\n",
      "7. See Your Details\n",
      "8. Exit\n",
      "Enter your details!\n",
      "Your details are added!\n",
      "Please remember your Customer ID 11\n",
      "(11, 'Kuttu Geetey', 'kuttu@gmail.com', datetime.date(2004, 3, 18))\n",
      "1. See the required details\n",
      "2. Enter your details(if you are a new customer)\n",
      "3. See accommodations available\n",
      "4. Enter Booking Details\n",
      "5. Special Requests\n",
      "6. Payment Information\n",
      "7. See Your Details\n",
      "8. Exit\n",
      "Choose an accommodation from the list below:\n",
      "(101, 'JW Marriott Hotel', 'Pune', 'Hotel', 9678430904)\n",
      "(102, 'Taj Vivanta Hotel', 'Bengaluru', 'Hotel', 9670439904)\n",
      "(103, 'Jehan Numa Palace', 'Bhopal', 'Hotel', 9676639811)\n",
      "(104, 'The Leela Palace', 'Jaipur', 'Hotel', 9688640193)\n",
      "(105, 'Lemon Tree Hotel', 'Pune', 'Hotel', 9777433942)\n",
      "(106, 'La Grandeur', 'Kota', 'Motel', 9886634242)\n",
      "(108, 'Evolve Back', 'Coorg', 'Resort', 9768623545)\n",
      "(109, 'Saffron Stays', 'bhopal', 'Resort', 9778622535)\n",
      "(110, 'Blue Ocean Resort and Spa', 'Panaji', 'Resort', 9799622535)\n",
      "1. See the required details\n",
      "2. Enter your details(if you are a new customer)\n",
      "3. See accommodations available\n",
      "4. Enter Booking Details\n",
      "5. Special Requests\n",
      "6. Payment Information\n",
      "7. See Your Details\n",
      "8. Exit\n",
      "Enter Your Booking Details\n",
      "Your booking is created!\n",
      "Please remember your Booking ID 300\n",
      "(300, 11, 101, datetime.date(2023, 11, 30), datetime.date(2023, 12, 4), 4, 'Suite')\n",
      "1. See the required details\n",
      "2. Enter your details(if you are a new customer)\n",
      "3. See accommodations available\n",
      "4. Enter Booking Details\n",
      "5. Special Requests\n",
      "6. Payment Information\n",
      "7. See Your Details\n",
      "8. Exit\n",
      "Okay!\n",
      "1. See the required details\n",
      "2. Enter your details(if you are a new customer)\n",
      "3. See accommodations available\n",
      "4. Enter Booking Details\n",
      "5. Special Requests\n",
      "6. Payment Information\n",
      "7. See Your Details\n",
      "8. Exit\n",
      "To be entered by your booking agent\n",
      "Your payment details are added!\n",
      "(300, 11, 101, datetime.date(2023, 11, 30), datetime.date(2023, 12, 4), 4, 'Suite')\n",
      "1. See the required details\n",
      "2. Enter your details(if you are a new customer)\n",
      "3. See accommodations available\n",
      "4. Enter Booking Details\n",
      "5. Special Requests\n",
      "6. Payment Information\n",
      "7. See Your Details\n",
      "8. Exit\n",
      "(11, 'Kuttu Geetey', 101, 'JW Marriott Hotel', 300, datetime.date(2023, 11, 30), datetime.date(2023, 12, 4), 4, 'Suite', 12345, Decimal('5000.00'), 'paid', 'UPI', None, None)\n"
     ]
    }
   ],
   "source": [
    "def main():\n",
    "    booking_instance = AccommodationBooking()\n",
    "    print(\"\\n=== Welcome to Book Your Stay ===\")\n",
    "    while True:\n",
    "        print(\"1. See the required details\")\n",
    "        print(\"2. Enter your details(if you are a new customer)\")\n",
    "        print(\"3. See accommodations available\")\n",
    "        print(\"4. Enter Booking Details\")\n",
    "        print(\"5. Special Requests\")\n",
    "        print(\"6. Payment Information\")\n",
    "        print(\"7. See Your Details\")\n",
    "        print(\"8. Exit\")\n",
    "\n",
    "        choice = input(\"Enter your choice (1-7): \")\n",
    "\n",
    "        if choice == \"1\":\n",
    "            booking_instance.show_tables()\n",
    "        elif choice == \"2\":\n",
    "            booking_instance.enter_customer_details()\n",
    "        elif choice == \"3\":\n",
    "            booking_instance.choose_accommodation()\n",
    "        elif choice == \"4\":\n",
    "            booking_instance.enter_booking_details()\n",
    "        elif choice == \"5\":\n",
    "            booking_instance.special_requests()\n",
    "        elif choice == \"6\":\n",
    "            booking_instance.payment_information()\n",
    "        elif choice == \"7\":\n",
    "            booking_instance.fetch_booking_details_by_customer_id()\n",
    "            break\n",
    "        elif choice == \"8\":\n",
    "            print(\"Exiting the program.\")\n",
    "            break\n",
    "        else:\n",
    "            print(\"Invalid choice. Please enter a number between 1 and 7.\")\n",
    "\n",
    "    booking_instance.close_connection()\n",
    "\n",
    "\n",
    "if __name__ == \"__main__\":\n",
    "    main()\n"
   ]
  },
  {
   "cell_type": "markdown",
   "metadata": {},
   "source": [
    "OTHER DML COMMANDS (except insert)"
   ]
  },
  {
   "cell_type": "code",
   "execution_count": 4,
   "metadata": {},
   "outputs": [
    {
     "data": {
      "text/plain": [
       "[('AccommID', 'int', 'NO', 'PRI', None, ''),\n",
       " ('AccommName', 'varchar(255)', 'NO', '', None, ''),\n",
       " ('Location', 'varchar(255)', 'YES', '', None, ''),\n",
       " ('Type', 'varchar(50)', 'YES', '', None, ''),\n",
       " ('contact', 'bigint', 'YES', '', None, '')]"
      ]
     },
     "execution_count": 4,
     "metadata": {},
     "output_type": "execute_result"
    }
   ],
   "source": [
    "connection = mysql.connector.connect(\n",
    "    host=\"127.0.0.1\",\n",
    "    port=3006,\n",
    "    user=\"root\",\n",
    "    password=\"Silver@2004\",\n",
    "    database=\"travel_booking\",\n",
    "    autocommit=True\n",
    ")\n",
    "cursor = connection.cursor()\n",
    "\n",
    "alter_table_query = \"ALTER TABLE accommodation modify COLUMN contact bigint\"\n",
    "cursor.execute(alter_table_query)\n",
    "describe_query=\"desc accommodation\"\n",
    "cursor.execute(describe_query)\n",
    "cursor.fetchall()"
   ]
  },
  {
   "cell_type": "code",
   "execution_count": 5,
   "metadata": {},
   "outputs": [
    {
     "name": "stdout",
     "output_type": "stream",
     "text": [
      "(101, 'JW Marriott Hotel', 'Pune', 'Hotel', 9678430904)\n",
      "(102, 'Taj Vivanta Hotel', 'Bengaluru', 'Hotel', 9670439904)\n",
      "(103, 'Jehan Numa Palace', 'Bhopal', 'Hotel', 9676639811)\n",
      "(104, 'The Leela Palace', 'Jaipur', 'Hotel', 9688640193)\n",
      "(105, 'Lemon Tree Hotel', 'Pune', 'Hotel', 9777433942)\n",
      "(106, 'La Grandeur', 'Kota', 'Motel', 9886634242)\n",
      "(108, 'Evolve Back', 'Coorg', 'Resort', 9768623545)\n",
      "(109, 'Saffron Stays', 'Mahabaleshwar', 'Resort', 9778622535)\n",
      "(110, 'Blue Ocean Resort and Spa', 'Goa', 'Resort', 9799622535)\n"
     ]
    }
   ],
   "source": [
    "select_data_query = \"SELECT * FROM accommodation \"\n",
    "cursor.execute(select_data_query)\n",
    "            # Fetch all rows\n",
    "rows = cursor.fetchall()\n",
    "for row in rows:\n",
    "    print(row)\n",
    "    cursor.fetchall() "
   ]
  },
  {
   "cell_type": "code",
   "execution_count": 7,
   "metadata": {},
   "outputs": [],
   "source": [
    "update_data_query = \"UPDATE accommodation SET location = %s WHERE accommname LIKE %s\"\n",
    "update_data_values = ('Panaji', 'Blue%')\n",
    "cursor.execute(update_data_query, update_data_values)\n",
    "#update"
   ]
  },
  {
   "cell_type": "code",
   "execution_count": 8,
   "metadata": {},
   "outputs": [
    {
     "name": "stdout",
     "output_type": "stream",
     "text": [
      "(101, 'JW Marriott Hotel', 'Pune', 'Hotel', 9678430904)\n",
      "(102, 'Taj Vivanta Hotel', 'Bengaluru', 'Hotel', 9670439904)\n",
      "(103, 'Jehan Numa Palace', 'Bhopal', 'Hotel', 9676639811)\n",
      "(104, 'The Leela Palace', 'Jaipur', 'Hotel', 9688640193)\n",
      "(105, 'Lemon Tree Hotel', 'Pune', 'Hotel', 9777433942)\n",
      "(106, 'La Grandeur', 'Kota', 'Motel', 9886634242)\n",
      "(108, 'Evolve Back', 'Coorg', 'Resort', 9768623545)\n",
      "(109, 'Saffron Stays', 'Mahabaleshwar', 'Resort', 9778622535)\n",
      "(110, 'Blue Ocean Resort and Spa', 'Panaji', 'Resort', 9799622535)\n"
     ]
    }
   ],
   "source": [
    "select_data_query = \"SELECT * FROM accommodation \"\n",
    "cursor.execute(select_data_query)\n",
    "            # Fetch all rows\n",
    "rows = cursor.fetchall()\n",
    "for row in rows:\n",
    "    print(row)\n",
    "    cursor.fetchall() "
   ]
  },
  {
   "cell_type": "code",
   "execution_count": 11,
   "metadata": {},
   "outputs": [
    {
     "name": "stdout",
     "output_type": "stream",
     "text": [
      "(543, 987, Decimal('10000.00'), 'pending', 'cash')\n",
      "(10010, 123, Decimal('6000.00'), 'paid', 'UPI')\n",
      "(11101, 111, Decimal('10000.00'), 'Paid', 'Credit')\n",
      "(11102, 112, Decimal('15000.00'), 'Paid', 'Credit')\n",
      "(11103, 113, Decimal('8000.00'), 'Paid', 'Bank Transfer')\n",
      "(11104, 114, Decimal('9900.00'), 'Pending', 'Cash')\n",
      "(11105, 115, Decimal('5500.00'), 'Pending', 'UPI')\n"
     ]
    }
   ],
   "source": [
    "select_data_query = \"SELECT * FROM paymentinformation \"\n",
    "cursor.execute(select_data_query)\n",
    "            # Fetch all rows\n",
    "rows = cursor.fetchall()\n",
    "for row in rows:\n",
    "    print(row)\n",
    "    cursor.fetchall() "
   ]
  },
  {
   "cell_type": "code",
   "execution_count": 12,
   "metadata": {},
   "outputs": [
    {
     "name": "stdout",
     "output_type": "stream",
     "text": [
      "(111, 50, 'Birthday Celebration')\n",
      "(115, 40, 'Pet friendly')\n",
      "(123, 80, 'Thin Pillow')\n"
     ]
    }
   ],
   "source": [
    "select_data_query = \"SELECT * FROM specialrequests \"\n",
    "cursor.execute(select_data_query)\n",
    "            # Fetch all rows\n",
    "rows = cursor.fetchall()\n",
    "for row in rows:\n",
    "    print(row)\n",
    "    cursor.fetchall()"
   ]
  },
  {
   "cell_type": "code",
   "execution_count": 13,
   "metadata": {},
   "outputs": [],
   "source": [
    "delete_request_query = \"DELETE FROM specialrequests WHERE specialID = %s\"\n",
    "request_id_to_delete = 80\n",
    "cursor.execute(delete_request_query, (request_id_to_delete,))\n",
    "#delete"
   ]
  },
  {
   "cell_type": "code",
   "execution_count": 14,
   "metadata": {},
   "outputs": [
    {
     "name": "stdout",
     "output_type": "stream",
     "text": [
      "(111, 50, 'Birthday Celebration')\n",
      "(115, 40, 'Pet friendly')\n"
     ]
    }
   ],
   "source": [
    "select_data_query = \"SELECT * FROM specialrequests \"\n",
    "cursor.execute(select_data_query)\n",
    "            # Fetch all rows\n",
    "rows = cursor.fetchall()\n",
    "for row in rows:\n",
    "    print(row)\n",
    "    cursor.fetchall()"
   ]
  }
 ],
 "metadata": {
  "kernelspec": {
   "display_name": "Python 3",
   "language": "python",
   "name": "python3"
  },
  "language_info": {
   "codemirror_mode": {
    "name": "ipython",
    "version": 3
   },
   "file_extension": ".py",
   "mimetype": "text/x-python",
   "name": "python",
   "nbconvert_exporter": "python",
   "pygments_lexer": "ipython3",
   "version": "3.11.4"
  }
 },
 "nbformat": 4,
 "nbformat_minor": 2
}
